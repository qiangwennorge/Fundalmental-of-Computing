{
 "cells": [
  {
   "cell_type": "markdown",
   "metadata": {},
   "source": [
    "## Practice Exercises for Interactive Applications"
   ]
  },
  {
   "cell_type": "markdown",
   "metadata": {},
   "source": [
    "#### Given the program template below, write a Python function print_goodbye() that defines a local variable message whose value is \"Goodbye\" and prints the value of this local variable to the console. Note that the existing global variable message retains its original value \"Hello\" after the call to print_goodbye() completes. "
   ]
  },
  {
   "cell_type": "code",
   "execution_count": 1,
   "metadata": {},
   "outputs": [
    {
     "name": "stdout",
     "output_type": "stream",
     "text": [
      "Hello\n",
      "Goodbye\n",
      "Hello\n",
      "Ciao\n",
      "Goodbye\n",
      "Ciao\n"
     ]
    }
   ],
   "source": [
    "\n",
    "def print_goodbye():\n",
    "    message = \"Goodbye\"\n",
    "    print(message)\n",
    "\n",
    "message = \"Hello\"\n",
    "print(message)\n",
    "print_goodbye()\n",
    "print(message)\n",
    "\n",
    "message = \"Ciao\"\n",
    "print(message)\n",
    "print_goodbye()\n",
    "print(message)"
   ]
  },
  {
   "cell_type": "markdown",
   "metadata": {},
   "source": [
    "#### Given the program template below, write a Python function set_goodbye() that updates a global variable message with the value \"Goodbye\" and prints the value of this global variable to the console. Note that the existing global variable message has its original value \"Hello\" modified to \"Goodbye\" during the call to set_goodbye()."
   ]
  },
  {
   "cell_type": "code",
   "execution_count": 2,
   "metadata": {},
   "outputs": [
    {
     "name": "stdout",
     "output_type": "stream",
     "text": [
      "Hello\n",
      "Goodbye\n",
      "Goodbye\n",
      "Ciao\n",
      "Goodbye\n",
      "Goodbye\n"
     ]
    }
   ],
   "source": [
    "def set_goodbye():\n",
    "    global message\n",
    "    message = \"Goodbye\"\n",
    "    print(message)\n",
    "\n",
    "message = \"Hello\"\n",
    "print(message)\n",
    "set_goodbye()\n",
    "print(message)\n",
    "\n",
    "message = \"Ciao\"\n",
    "print(message)\n",
    "set_goodbye()\n",
    "print(message)"
   ]
  },
  {
   "cell_type": "markdown",
   "metadata": {},
   "source": [
    "#### Challenge: Given the program template below, implement four functions that manipulate a global variable count as follows. The function reset() sets the value of count to be zero, the function increment() adds one to count, the function decrement() subtracts one from count, and the function print_count() that prints the value of count to the console. "
   ]
  },
  {
   "cell_type": "code",
   "execution_count": 3,
   "metadata": {},
   "outputs": [
    {
     "name": "stdout",
     "output_type": "stream",
     "text": [
      "1\n",
      "2\n",
      "-2\n"
     ]
    }
   ],
   "source": [
    "def reset():\n",
    "    global count\n",
    "    count = 0\n",
    "    \n",
    "def increment():\n",
    "    global count\n",
    "    count += 1\n",
    "\n",
    "def print_count():\n",
    "    global count\n",
    "    print(count)\n",
    "    \n",
    "def decrement():\n",
    "    global count\n",
    "    count -= 1\n",
    "\n",
    "reset()\n",
    "increment()\n",
    "print_count()\n",
    "increment()\n",
    "print_count()\n",
    "reset()\n",
    "decrement()\n",
    "decrement()\n",
    "print_count()"
   ]
  }
 ],
 "metadata": {
  "kernelspec": {
   "display_name": "Python [default]",
   "language": "python",
   "name": "python3"
  },
  "language_info": {
   "codemirror_mode": {
    "name": "ipython",
    "version": 3
   },
   "file_extension": ".py",
   "mimetype": "text/x-python",
   "name": "python",
   "nbconvert_exporter": "python",
   "pygments_lexer": "ipython3",
   "version": "3.6.2"
  }
 },
 "nbformat": 4,
 "nbformat_minor": 2
}
