{
 "cells": [
  {
   "cell_type": "markdown",
   "metadata": {},
   "source": [
    "## Practice Exercises for Functions\n",
    "\n",
    "Solve each of the practice exercises below. Each problem includes three CodeSkulptor links: one for a template that you should use as a starting point for your solution, one to our solution to the exercise, and one to a tool that automatically checks your solution."
   ]
  },
  {
   "cell_type": "markdown",
   "metadata": {},
   "source": [
    "#### Write a Python function miles_to_feet that takes a parameter miles and returns the number of feet in miles miles."
   ]
  },
  {
   "cell_type": "code",
   "execution_count": 5,
   "metadata": {},
   "outputs": [
    {
     "name": "stdout",
     "output_type": "stream",
     "text": [
      "13 miles equals\n",
      "68640 feet.\n",
      "57 miles equals\n",
      "300960 feet.\n",
      "82.67 miles equals\n",
      "436497.60000000003 feet.\n"
     ]
    }
   ],
   "source": [
    "def miles_to_feet(miles):\n",
    "    feet = miles * 5280\n",
    "    return feet\n",
    "\n",
    "def test(miles):\n",
    "    \"\"\"\"Tests the miles_to_feet function.\"\"\"\n",
    "\n",
    "    print(str(miles) + \" miles equals\")\n",
    "    print(str(miles_to_feet(miles)) + \" feet.\")\n",
    "\n",
    "test(13)\n",
    "test(57)\n",
    "test(82.67)"
   ]
  },
  {
   "cell_type": "markdown",
   "metadata": {},
   "source": [
    "#### Write a Python function total_seconds that takes three parameters hours, minutes and seconds and returns the total number of seconds for hours hours, minutes minutes and seconds seconds."
   ]
  },
  {
   "cell_type": "code",
   "execution_count": 8,
   "metadata": {},
   "outputs": [
    {
     "name": "stdout",
     "output_type": "stream",
     "text": [
      "7 hours, 21 minutes, and\n",
      "37 seconds totals to\n",
      "26497 seconds.\n",
      "10 hours, 1 minutes, and\n",
      "7 seconds totals to\n",
      "36067 seconds.\n",
      "1 hours, 0 minutes, and\n",
      "1 seconds totals to\n",
      "3601 seconds.\n"
     ]
    }
   ],
   "source": [
    "def total_seconds(hours, minutes, seconds):\n",
    "    return hours * 60 * 60 + minutes * 60 + seconds\n",
    "\n",
    "def test(hours, minutes, seconds):\n",
    "    \"\"\"Tests the total_seconds functions.\"\"\"\n",
    "    \n",
    "    print(str(hours) + \" hours, \" + str(minutes) + \" minutes, and\",)\n",
    "    print(str(seconds) + \" seconds totals to\",)\n",
    "    print(str(total_seconds(hours, minutes, seconds)) + \" seconds.\")\n",
    "\n",
    "test(7, 21, 37)\n",
    "test(10, 1, 7)\n",
    "test(1, 0, 1)"
   ]
  },
  {
   "cell_type": "markdown",
   "metadata": {},
   "source": [
    "#### Write a Python function rectangle_perimeter that takes two parameters width and height corresponding to the lengths of the sides of a rectangle and returns the perimeter of the rectangle in inches."
   ]
  },
  {
   "cell_type": "code",
   "execution_count": 1,
   "metadata": {},
   "outputs": [
    {
     "name": "stdout",
     "output_type": "stream",
     "text": [
      "A rectangle 4 inches wide and 7\n",
      "inches high has a perimeter of\n",
      "22 inches.\n",
      "A rectangle 7 inches wide and 4\n",
      "inches high has a perimeter of\n",
      "22 inches.\n",
      "A rectangle 10 inches wide and 10\n",
      "inches high has a perimeter of\n",
      "40 inches.\n"
     ]
    }
   ],
   "source": [
    "def rectangle_perimeter(width, height):\n",
    "    return 2 * width + 2 * height\n",
    "\n",
    "def test(width, height):\n",
    "    \"\"\"Tests the rectangle_perimeter function.\"\"\"\n",
    "\n",
    "    print(\"A rectangle \" + str(width) + \" inches wide and \" + str(height),)\n",
    "    print(\"inches high has a perimeter of\",)\n",
    "    print(str(rectangle_perimeter(width, height)) + \" inches.\")\n",
    "\n",
    "test(4, 7)\n",
    "test(7, 4)\n",
    "test(10, 10)"
   ]
  },
  {
   "cell_type": "markdown",
   "metadata": {},
   "source": [
    "#### Write a Python function rectangle_area that takes two parameters width and height corresponding to the lengths of the sides of a rectangle and returns the area of the rectangle in square inches. "
   ]
  },
  {
   "cell_type": "code",
   "execution_count": 2,
   "metadata": {},
   "outputs": [
    {
     "name": "stdout",
     "output_type": "stream",
     "text": [
      "A rectangle 4 inches wide and 7\n",
      "inches high has an area of\n",
      "28 square inches.\n",
      "A rectangle 7 inches wide and 4\n",
      "inches high has an area of\n",
      "28 square inches.\n",
      "A rectangle 10 inches wide and 10\n",
      "inches high has an area of\n",
      "100 square inches.\n"
     ]
    }
   ],
   "source": [
    "def rectangle_area(width, height):\n",
    "    return width * height\n",
    "\n",
    "def test(width, height):\n",
    "    print(\"A rectangle \" + str(width) + \" inches wide and \" + str(height),)\n",
    "    print(\"inches high has an area of\",)\n",
    "    print(str(rectangle_area(width, height)) + \" square inches.\")\n",
    "\n",
    "test(4, 7)\n",
    "test(7, 4)\n",
    "test(10, 10)"
   ]
  },
  {
   "cell_type": "markdown",
   "metadata": {},
   "source": [
    "#### Write a Python function circle_circumference that takes a single parameter radius corresponding to the radius of a circle in inches and returns the the circumference of a circle with radius radius in inches. Do not use π=3.14, instead use the math module to supply a higher-precision approximation to π."
   ]
  },
  {
   "cell_type": "code",
   "execution_count": 4,
   "metadata": {},
   "outputs": [
    {
     "name": "stdout",
     "output_type": "stream",
     "text": [
      "A circle with a radius of 8\n",
      "inches has a circumference of\n",
      "50.26548245743669 inches.\n",
      "A circle with a radius of 3\n",
      "inches has a circumference of\n",
      "18.84955592153876 inches.\n",
      "A circle with a radius of 12.9\n",
      "inches has a circumference of\n",
      "81.05309046261667 inches.\n"
     ]
    }
   ],
   "source": [
    "import math\n",
    "\n",
    "def circle_circumference(radius):\n",
    "    return 2 * math.pi * radius\n",
    "\n",
    "def test(radius):\n",
    "    print(\"A circle with a radius of \" + str(radius),)\n",
    "    print(\"inches has a circumference of\",)\n",
    "    print(str(circle_circumference(radius)) + \" inches.\")\n",
    "\n",
    "test(8)\n",
    "test(3)\n",
    "test(12.9)"
   ]
  },
  {
   "cell_type": "markdown",
   "metadata": {},
   "source": [
    "#### Write a Python function circle_area that takes a single parameter radius corresponding to the radius of a circle in inches and returns the the area of a circle with radius radius in square inches. Do not use π=3.14, instead use the math module to supply a higher-precision approximation to π."
   ]
  },
  {
   "cell_type": "code",
   "execution_count": 6,
   "metadata": {},
   "outputs": [
    {
     "name": "stdout",
     "output_type": "stream",
     "text": [
      "A circle with a radius of 8\n",
      "inches has an area of\n",
      "201.06192982974676 square inches.\n",
      "A circle with a radius of 3\n",
      "inches has an area of\n",
      "28.274333882308138 square inches.\n",
      "A circle with a radius of 12.9\n",
      "inches has an area of\n",
      "522.7924334838775 square inches.\n"
     ]
    }
   ],
   "source": [
    "import math\n",
    "\n",
    "def circle_area(radius):\n",
    "    return math.pi * (radius ** 2)\n",
    "\n",
    "def test(radius):\n",
    "    print(\"A circle with a radius of \" + str(radius),)\n",
    "    print(\"inches has an area of\",)\n",
    "    print(str(circle_area(radius)) + \" square inches.\")\n",
    "\n",
    "test(8)\n",
    "test(3)\n",
    "test(12.9)"
   ]
  },
  {
   "cell_type": "markdown",
   "metadata": {},
   "source": [
    "#### Write a Python function future_value that takes three parameters present_value, annual_rate and years and returns the future value of present_value dollars invested at annual_rate percent interest, compounded annually for years years."
   ]
  },
  {
   "cell_type": "code",
   "execution_count": 9,
   "metadata": {},
   "outputs": [
    {
     "name": "stdout",
     "output_type": "stream",
     "text": [
      "The future value of $1000 in 10\n",
      "years at an annual rate of 7% is\n",
      "$1967.1513572895665.\n",
      "The future value of $200 in 5\n",
      "years at an annual rate of 4% is\n",
      "$243.33058048000004.\n",
      "The future value of $1000 in 20\n",
      "years at an annual rate of 3% is\n",
      "$1806.111234669415.\n"
     ]
    }
   ],
   "source": [
    "def future_value(present_value, annual_rate, years):\n",
    "    return present_value * ((1 + annual_rate / 100.0) ** years)\n",
    "\n",
    "def test(present_value, annual_rate, years):\n",
    "    \"\"\"Tests the future_value function.\"\"\"\n",
    "    \n",
    "    print(\"The future value of $\" + str(present_value) + \" in \" + str(years),)\n",
    "    print(\"years at an annual rate of \" + str(annual_rate) + \"% is\",)\n",
    "    print(\"$\" + str(future_value(present_value, annual_rate, years)) + \".\")\n",
    "\n",
    "\n",
    "test(1000, 7, 10)\n",
    "test(200, 4, 5)\n",
    "test(1000, 3, 20)"
   ]
  },
  {
   "cell_type": "markdown",
   "metadata": {},
   "source": [
    "#### Write a Python function name_tag that takes as input the parameters first_name and last_name (strings) and returns a string of the form \"My name is % %.\" where the percents are the strings first_name and last_name. Reference the test cases in the provided template for an exact description of the format of the returned string."
   ]
  },
  {
   "cell_type": "code",
   "execution_count": 11,
   "metadata": {},
   "outputs": [
    {
     "name": "stdout",
     "output_type": "stream",
     "text": [
      "My name is Joe Warren.\n",
      "My name is Scott Rixner.\n",
      "My name is John Greiner.\n"
     ]
    }
   ],
   "source": [
    "def name_tag(first_name, last_name):\n",
    "    return \"My name is \" + first_name + \" \" + last_name + \".\"\n",
    "\n",
    "\n",
    "def test(first_name, last_name):\n",
    "    print(name_tag(first_name, last_name))\n",
    "\n",
    "test(\"Joe\", \"Warren\")\n",
    "test(\"Scott\", \"Rixner\")\n",
    "test(\"John\", \"Greiner\")"
   ]
  },
  {
   "cell_type": "markdown",
   "metadata": {},
   "source": [
    "#### Write a Python function name_and_age that takes as input the parameters name (a string) and age (a number) and returns a string of the form \"% is % years old.\" where the percents are the string forms of name and age. Reference the test cases in the provided template for an exact description of the format of the returned string."
   ]
  },
  {
   "cell_type": "code",
   "execution_count": 13,
   "metadata": {},
   "outputs": [
    {
     "name": "stdout",
     "output_type": "stream",
     "text": [
      "Joe Warren is 52 years old.\n",
      "Scott Rixner is 40 years old.\n",
      "John Greiner is 46 years old.\n"
     ]
    }
   ],
   "source": [
    "def name_and_age(name, age):\n",
    "    return name + \" is \" + str(age) + \" years old.\"\n",
    "\n",
    "\n",
    "def test(name, age):\n",
    "    print(name_and_age(name, age))\n",
    "\n",
    "test(\"Joe Warren\", 52)\n",
    "test(\"Scott Rixner\", 40)\n",
    "test(\"John Greiner\", 46)"
   ]
  },
  {
   "cell_type": "markdown",
   "metadata": {},
   "source": [
    "#### Write a Python function point_distance that takes as the parameters x0, y0, x1 and y1, and returns the distance between the points (x0,y0) and (x1,y1). "
   ]
  },
  {
   "cell_type": "code",
   "execution_count": 14,
   "metadata": {},
   "outputs": [
    {
     "name": "stdout",
     "output_type": "stream",
     "text": [
      "The distance from (2, 2) to\n",
      "(5, 6) is\n",
      "5.0.\n",
      "The distance from (1, 1) to\n",
      "(2, 2) is\n",
      "1.4142135623730951.\n",
      "The distance from (0, 0) to\n",
      "(3, 4) is\n",
      "5.0.\n"
     ]
    }
   ],
   "source": [
    "import math\n",
    "\n",
    "def point_distance(x0, y0, x1, y1):\n",
    "    return math.sqrt((x1 - x0) ** 2 + (y1 - y0) ** 2)\n",
    "\n",
    "\n",
    "def test(x0, y0, x1, y1):\n",
    "    print(\"The distance from (\" + str(x0) + \", \" + str(y0) + \") to\",)\n",
    "    print(\"(\" + str(x1) + \", \" + str(y1) + \") is\",)\n",
    "    print(str(point_distance(x0, y0, x1, y1)) + \".\")\n",
    "\n",
    "test(2, 2, 5, 6)\n",
    "test(1, 1, 2, 2)\n",
    "test(0, 0, 3, 4)"
   ]
  },
  {
   "cell_type": "markdown",
   "metadata": {},
   "source": [
    "#### Challenge: Write a Python function triangle_area that takes the parameters x0, y0, x1,y1, x2, and y2, and returns the area of the triangle with vertices (x0,y0), (x1,y1) and (x2,y2). (Hint: use the function point_distance as a helper function and apply Heron's formula.) "
   ]
  },
  {
   "cell_type": "code",
   "execution_count": 15,
   "metadata": {},
   "outputs": [
    {
     "name": "stdout",
     "output_type": "stream",
     "text": [
      "A triangle with vertices (0,0),\n",
      "(3,4), and\n",
      "(1,1) has an area of\n",
      "0.5000000000000133.\n",
      "A triangle with vertices (-2,4),\n",
      "(1,6), and\n",
      "(2,1) has an area of\n",
      "8.5.\n",
      "A triangle with vertices (10,0),\n",
      "(0,0), and\n",
      "(0,10) has an area of\n",
      "50.0.\n"
     ]
    }
   ],
   "source": [
    "import math\n",
    "\n",
    "def point_distance(x0, y0, x1, y1):\n",
    "    return math.sqrt((x1 - x0) ** 2 + (y1 - y0) ** 2)\n",
    "\n",
    "def triangle_area(x0, y0, x1, y1, x2, y2):\n",
    "    d0 = point_distance(x0, y0, x1, y1)\n",
    "    d1 = point_distance(x1, y1, x2, y2)\n",
    "    d2 = point_distance(x0, y0, x2, y2)\n",
    "    \n",
    "    s = (d0 + d1 + d2) / 2\n",
    "    \n",
    "    return math.sqrt(s * (s - d0) * (s - d1) * (s - d2))\n",
    "\n",
    "\n",
    "\n",
    "def test(x0, y0, x1, y1, x2, y2):\n",
    "    print(\"A triangle with vertices (\" + str(x0) + \",\" + str(y0) + \"),\",)\n",
    "    print(\"(\" + str(x1) + \",\" + str(y1) + \"), and\",)\n",
    "    print(\"(\" + str(x2) + \",\" + str(y2) + \") has an area of\",)\n",
    "    print(str(triangle_area(x0, y0, x1, y1, x2, y2)) + \".\")\n",
    "\n",
    "test(0, 0, 3, 4, 1, 1)\n",
    "test(-2, 4, 1, 6, 2, 1)\n",
    "test(10, 0, 0, 0, 0, 10)"
   ]
  },
  {
   "cell_type": "markdown",
   "metadata": {},
   "source": [
    "####  Challenge: Write a Python function print_digits that takes an integer number in the range [0,100), i.e., at least 0, but less than 100. It prints the message \"The tens digit is %, and the ones digit is %.\", where the percent signs should be replaced with the appropriate values. (Hint: Use the arithmetic operators for integer division // and remainder % to find the two digits. Note that this function should print the desired message, rather than returning it as a string."
   ]
  },
  {
   "cell_type": "code",
   "execution_count": 18,
   "metadata": {},
   "outputs": [
    {
     "name": "stdout",
     "output_type": "stream",
     "text": [
      "The tens digit is 4 , and the ones digit is 2.\n",
      "The tens digit is 9 , and the ones digit is 9.\n",
      "The tens digit is 0 , and the ones digit is 5.\n"
     ]
    }
   ],
   "source": [
    "def print_digits(num):\n",
    "    tens = num // 10\n",
    "    ones = num % 10\n",
    "    print(\"The tens digit is \" + str(tens) + \" , and the ones digit is \" + str(ones) + \".\")\n",
    "\n",
    "print_digits(42)\n",
    "print_digits(99)\n",
    "print_digits(5)"
   ]
  },
  {
   "cell_type": "markdown",
   "metadata": {},
   "source": [
    "#### Challenge: Powerball is lottery game in which 6 numbers are drawn at random. Players can purchase a lottery ticket with a specific number combination and, if the number on the ticket matches the numbers generated in a random drawing, the player wins a massive jackpot. Write a Python function powerball that takes no arguments and prints the message \"Today's numbers are %, %, %, %, and %. The Powerball number is %.\". The first five numbers should be random integers in the range [1,60), i.e., at least 1, but less than 60. In reality, these five numbers must all be distinct, but for this problem, we will allow duplicates. The Powerball number is a random integer in the range [1,36), i.e., at least 1 but less than 36. Use the random module and the function random.randrange to generate the appropriate random numbers.Note that this function should print the desired message, rather than returning it as a string."
   ]
  },
  {
   "cell_type": "code",
   "execution_count": 26,
   "metadata": {},
   "outputs": [
    {
     "name": "stdout",
     "output_type": "stream",
     "text": [
      "Today's numbers are 23, 29, 1, 13 and 41. The Powerball number is 15.\n",
      "Today's numbers are 7, 38, 41, 39 and 54. The Powerball number is 24.\n",
      "Today's numbers are 48, 15, 21, 34 and 29. The Powerball number is 17.\n"
     ]
    }
   ],
   "source": [
    "import random\n",
    "\n",
    "def powerball():\n",
    "    n1 = random.randrange(1,60)\n",
    "    n2 = random.randrange(1,60)\n",
    "    n3 = random.randrange(1,60)\n",
    "    n4 = random.randrange(1,60)\n",
    "    n5 = random.randrange(1,60)\n",
    "    n6 = random.randrange(1,36)\n",
    "    \n",
    "    print(\"Today's numbers are \" + str(n1) + \", \" + str(n2) + \", \" + str(n3) + \", \" + str(n4) + \" and \" + str(n5) + \". The Powerball number is \" + str(n6) + \".\")\n",
    "\n",
    "powerball()\n",
    "powerball()\n",
    "powerball()"
   ]
  },
  {
   "cell_type": "markdown",
   "metadata": {},
   "source": [
    "## Practice Exercises for Logic and Conditionals"
   ]
  },
  {
   "cell_type": "markdown",
   "metadata": {},
   "source": [
    "#### Write a Python function is_even that takes as input the parameter number (an integer) and returns True if number is even and False if number is odd. Hint: Apply the remainder operator to n (i.e., number % 2) and compare to zero. "
   ]
  },
  {
   "cell_type": "code",
   "execution_count": 28,
   "metadata": {},
   "outputs": [
    {
     "name": "stdout",
     "output_type": "stream",
     "text": [
      "8 is even.\n",
      "3 is odd.\n",
      "12 is even.\n"
     ]
    }
   ],
   "source": [
    "def is_even(num):\n",
    "    if num % 2 == 0:\n",
    "        return True\n",
    "    else:\n",
    "        return False\n",
    "    \n",
    "    \n",
    "def test(number):\n",
    "    \"\"\"Tests the is_even function.\"\"\"\n",
    "    if is_even(number):\n",
    "        print(number, \"is even.\")\n",
    "    else:\n",
    "        print(number, \"is odd.\")\n",
    "\n",
    "test(8)\n",
    "test(3)\n",
    "test(12)"
   ]
  },
  {
   "cell_type": "markdown",
   "metadata": {},
   "source": [
    "#### Write a Python function is_cool that takes as input the string name and returns True if name is either \"Joe\", \"John\" or \"Stephen\" and returns False otherwise. (Let's see if Scott manages to catch this. ☺ ) "
   ]
  },
  {
   "cell_type": "code",
   "execution_count": 32,
   "metadata": {},
   "outputs": [
    {
     "name": "stdout",
     "output_type": "stream",
     "text": [
      "Joe is cool.\n",
      "John is cool.\n",
      "Stephen is cool.\n",
      "Scott is not cool.\n"
     ]
    }
   ],
   "source": [
    "def is_cool(name):\n",
    "    return (name == \"Joe\") or (name == \"John\") or (name == \"Stephen\")\n",
    "    \n",
    "\n",
    "\n",
    "def test(name):\n",
    "    \"\"\"Tests the is_cool function.\"\"\"\n",
    "    \n",
    "    if is_cool(name):\n",
    "        print(name, \"is cool.\")\n",
    "    else:\n",
    "        print(name, \"is not cool.\")\n",
    "\n",
    "test(\"Joe\")\n",
    "test(\"John\")\n",
    "test(\"Stephen\")\n",
    "test(\"Scott\")"
   ]
  },
  {
   "cell_type": "markdown",
   "metadata": {},
   "source": [
    "\n",
    "    Cool template --- Cool solution --- Cool (Checker)\n",
    "    Write a Python function is_lunchtime that takes as input the parameters hour (an integer in the range [1,12]) and is_am (a Boolean “flag” that represents whether the hour is before noon). The function should return True when the input corresponds to 11am or 12pm (noon) and False otherwise. If the problem specification is unclear, look at the test cases in the provided template. Our solution does not use conditional statements. Lunchtime template --- Lunchtime solution --- Lunchtime (Checker)\n",
    "    Write a Python function is_leap_year that take as input the parameter year and returns True if year (an integer) is a leap year according to the Gregorian calendar and False otherwise. The Wikipedia entry for leap yearscontains a simple algorithmic rule for determining whether a year is a leap year. Your main task will be to translate this rule into Python. Leap year template --- Leap year solution --- Leap year (Checker)\n",
    "    Write a Python function interval_intersect that takes parameters a, b, c, and d and returns True if the intervals [a,b] and [c,d] intersect and False otherwise. While this test may seem tricky, the solution is actually very simple and consists of one line of Python code. (You may assume that a≤b and c≤d.) Interval intersect template --- Interval intersect solution --- Interval intersect (Checker)\n",
    "    Write a Python function name_and_age that take as input the parameters name (a string) and age (a number) and returns a string of the form \"% is % years old.\" where the percents are the string forms of name and age. The function should include an error check for the case when age is less than zero. In this case, the function should return the string \"Error: Invalid age\". Name and age template --- Name and age solution --- Name and age (Checker)\n",
    "    Write a Python function print_digits that takes an integer number in the range [0,100) and prints the message \"The tens digit is %, and the ones digit is %.\" where the percents should be replaced with the appropriate values. The function should include an error check for the case when number is negative or greater than or equal to 100. In those cases, the function should instead print \"Error: Input is not a two-digit number.\". Print digits template --- Print digits solution --- Print digits (Checker)\n",
    "    Write a Python function name_lookup that takes a string first_name that corresponds to one of (\"Joe\", \"Scott\", \"John\" or \"Stephen\") and then returns their corresponding last name (\"Warren\", \"Rixner\", \"Greiner\" or \"Wong\"). If first_name doesn't match any of those strings, return the string \"Error: Not an instructor\". Name lookup template --- Name lookup solution --- Name lookup (Checker)\n",
    "    Pig Latin is a language game that involves altering words via a simple set of rules. Write a Python function pig_latin that takes a string word and applies the following rules to generate a new word in Pig Latin. If the first letter in word is a consonant, append the consonant plus \"ay\" to the end of the remainder of the word. For example, pig_latin(\"pig\") would return \"igpay\". If the first letter in word is a vowel, append \"way\" to the end of the word. For example, pig_latin(\"owl\") returns \"owlway\". You can assume that word is in lower case. The provided template includes code to extract the first letter and the rest of word in Python. Note that, in full Pig Latin, the leading consonant cluster is moved to the end of the word. However, we don't know enough Python to implement full Pig Latin just yet. Pig Latin template --- Pig Latin solution --- Pig Latin (Checker)\n",
    "    Challenge: Given numbers a, b, and c, the quadratic equation ax2+bx+c=0 can have zero, one or two real solutions (i.e; values for x that satisfy the equation). The quadratic formulax=−b±b2−4ac2acan be used to compute these solutions. The expression b2−4ac is the discriminant associated with the equation. If the discriminant is positive, the equation has two solutions. If the discriminant is zero, the equation has one solution. Finally, if the discriminant is negative, the equation has no solutions. Write a Python function smaller_root that takes an input the numbers a, b and c and returns the smaller solution to this equation if one exists. If the equation has no real solution, print the message \"Error: No real solutions\" and simply return. Note that, in this case, the function will actually return the special Python value None. Quadratic root template --- Quadratic root solution --- Quadratic root (Checker)"
   ]
  }
 ],
 "metadata": {
  "kernelspec": {
   "display_name": "Python [default]",
   "language": "python",
   "name": "python3"
  },
  "language_info": {
   "codemirror_mode": {
    "name": "ipython",
    "version": 3
   },
   "file_extension": ".py",
   "mimetype": "text/x-python",
   "name": "python",
   "nbconvert_exporter": "python",
   "pygments_lexer": "ipython3",
   "version": "3.6.2"
  }
 },
 "nbformat": 4,
 "nbformat_minor": 2
}
