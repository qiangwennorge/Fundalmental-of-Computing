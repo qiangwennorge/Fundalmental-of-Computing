{
 "cells": [
  {
   "cell_type": "markdown",
   "metadata": {},
   "source": [
    "## Practice Exercises for Interactive Applications"
   ]
  },
  {
   "cell_type": "markdown",
   "metadata": {},
   "source": [
    "#### Given the program template below, write a Python function print_goodbye() that defines a local variable message whose value is \"Goodbye\" and prints the value of this local variable to the console. Note that the existing global variable message retains its original value \"Hello\" after the call to print_goodbye() completes. "
   ]
  },
  {
   "cell_type": "code",
   "execution_count": null,
   "metadata": {
    "collapsed": true
   },
   "outputs": [],
   "source": []
  },
  {
   "cell_type": "markdown",
   "metadata": {},
   "source": [
    "#### Given the program template below, write a Python function set_goodbye() that updates a global variable message with the value \"Goodbye\" and prints the value of this global variable to the console. Note that the existing global variable message has its original value \"Hello\" modified to \"Goodbye\" during the call to set_goodbye()."
   ]
  },
  {
   "cell_type": "code",
   "execution_count": null,
   "metadata": {
    "collapsed": true
   },
   "outputs": [],
   "source": []
  },
  {
   "cell_type": "markdown",
   "metadata": {},
   "source": [
    "#### Challenge: Given the program template below, implement four functions that manipulate a global variable count as follows. The function reset() sets the value of count to be zero, the function increment() adds one to count, the function decrement() subtracts one from count, and the function print_count() that prints the value of count to the console. "
   ]
  },
  {
   "cell_type": "code",
   "execution_count": null,
   "metadata": {
    "collapsed": true
   },
   "outputs": [],
   "source": []
  },
  {
   "cell_type": "markdown",
   "metadata": {},
   "source": [
    "#### Complete the program template below so that the resulting CodeSkulptor program opens a frame of size 100×200 with the title \"My first frame\". You will need to add only two extra lines of code."
   ]
  },
  {
   "cell_type": "code",
   "execution_count": null,
   "metadata": {
    "collapsed": true
   },
   "outputs": [],
   "source": []
  },
  {
   "cell_type": "markdown",
   "metadata": {},
   "source": [
    "#### Given the program template below, modify the program to create a CodeSkulptor frame that opens a 200×100 pixel frame with the title \"My second frame\". Remember to use the Docs to determine the correct syntax for the necessary SimpleGUI calls."
   ]
  },
  {
   "cell_type": "code",
   "execution_count": null,
   "metadata": {
    "collapsed": true
   },
   "outputs": [],
   "source": []
  },
  {
   "cell_type": "markdown",
   "metadata": {},
   "source": [
    "    Write event handlers print_hello() and print_goodbye() for the two buttons with labels \"Hello\" and \"Goodbye\" defined in the program template below. Pressing these buttons should print the messages \"Hello\" and \"Goodbye\", respectively, in the console. Print hello/goodbye template --- Print hello/goodbye solution --- Print hello/goodbye (Checker)\n",
    "    Given the three function print_color(), set_red(), and set_blue() in the program template below, create three buttons that print and manipulate the global variable color. Use the CodeSkulptor Docs to determine the SimpleGUI method for creating a button if needed. Register buttons template --- Register buttons solution --- Register buttons (Checker)\n",
    "    Challenge: Given the program template below, implement four buttons that manipulate a global variable count as follows. The function reset() sets the value of count to be zero, the function increment() adds one to count, the function decrement() subtracts one from count, and the function print_count() prints the value of count to the console. Count operations template --- Count operations solution --- Count operations (Checker)\n",
    "    Write a program that creates an input field and echoes input to that field to the console. Echo template --- Echo solution --- Echo (Checker)\n",
    "    Write a program allows a user to enter a word in an input field, translates that word into Pig Latin and prints this translation in the console. For the sake of modularity, we suggest that you build a helper function that handles all of the details of translating a word to Pig Latin (see the practice exercises for logic and conditionals) . The provided template includes the operations for extracting the first letter and rest of the input word in the partial definition of this function. Pig Latin template --- Pig Latin solution --- Pig Latin (Checker)\n",
    "    Challenge: Add an interactive user interface for your implementation of \"Rock-paper-scissors-lizard-Spock\". Create an input field that takes a player's guess, generates a random computer guess, and prints out the player and computer choices as well as who won in the console. Make sure that your program checks for and correctly responds to bad input. RPSLS template --- RPSLS solution --- RPSLS (Checker)"
   ]
  }
 ],
 "metadata": {
  "kernelspec": {
   "display_name": "Python [default]",
   "language": "python",
   "name": "python3"
  },
  "language_info": {
   "codemirror_mode": {
    "name": "ipython",
    "version": 3
   },
   "file_extension": ".py",
   "mimetype": "text/x-python",
   "name": "python",
   "nbconvert_exporter": "python",
   "pygments_lexer": "ipython3",
   "version": "3.6.2"
  }
 },
 "nbformat": 4,
 "nbformat_minor": 2
}
