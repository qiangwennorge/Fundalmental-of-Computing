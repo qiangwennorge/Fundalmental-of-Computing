{
 "cells": [
  {
   "cell_type": "markdown",
   "metadata": {},
   "source": [
    "## Practice Exercises for Functions\n",
    "\n",
    "Solve each of the practice exercises below. Each problem includes three CodeSkulptor links: one for a template that you should use as a starting point for your solution, one to our solution to the exercise, and one to a tool that automatically checks your solution."
   ]
  },
  {
   "cell_type": "markdown",
   "metadata": {},
   "source": [
    "#### Write a Python function miles_to_feet that takes a parameter miles and returns the number of feet in miles miles."
   ]
  },
  {
   "cell_type": "code",
   "execution_count": null,
   "metadata": {
    "collapsed": true
   },
   "outputs": [],
   "source": []
  },
  {
   "cell_type": "markdown",
   "metadata": {},
   "source": [
    "Write a Python function total_seconds that takes three parameters hours, minutes and seconds and returns the total number of seconds for hours hours, minutes minutes and seconds seconds. Hours to seconds template --- Hours to seconds solution --- Hours to seconds (Checker)\n",
    "    Write a Python function rectangle_perimeter that takes two parameters width and height corresponding to the lengths of the sides of a rectangle and returns the perimeter of the rectangle in inches. Perimeter of rectangle template --- Perimeter of rectangle solution --- Perimeter of rectangle (Checker)\n",
    "    Write a Python function rectangle_area that takes two parameters width and height corresponding to the lengths of the sides of a rectangle and returns the area of the rectangle in square inches. Area of rectangle template --- Area of rectangle solution --- Area of rectangle (Checker)\n",
    "    Write a Python function circle_circumference that takes a single parameter radius corresponding to the radius of a circle in inches and returns the the circumference of a circle with radius radius in inches. Do not use π=3.14, instead use the math module to supply a higher-precision approximation to π. Circumference of circle template --- Circumference of circle solution --- Circumference of circle (Checker)\n",
    "    Write a Python function circle_area that takes a single parameter radius corresponding to the radius of a circle in inches and returns the the area of a circle with radius radius in square inches. Do not use π=3.14, instead use the math module to supply a higher-precision approximation to π. Area of circle template --- Area of circle solution --- Area of circle (Checker)\n",
    "    Write a Python function future_value that takes three parameters present_value, annual_rate and years and returns the future value of present_value dollars invested at annual_rate percent interest, compounded annually for years years. Future value template --- Future value solution --- Future value (Checker)\n",
    "    Write a Python function name_tag that takes as input the parameters first_name and last_name (strings) and returns a string of the form \"My name is % %.\" where the percents are the strings first_name and last_name. Reference the test cases in the provided template for an exact description of the format of the returned string. Name tag template --- Name tag solution --- Name tag (Checker)\n",
    "    Write a Python function name_and_age that takes as input the parameters name (a string) and age (a number) and returns a string of the form \"% is % years old.\" where the percents are the string forms of name and age. Reference the test cases in the provided template for an exact description of the format of the returned string. Name and age template --- Name and age solution --- Name and age (Checker)\n",
    "    Write a Python function point_distance that takes as the parameters x0, y0, x1 and y1, and returns the distance between the points (x0,y0) and (x1,y1). Point distance template --- Point distance solution --- Point distance (Checker)\n",
    "    Challenge: Write a Python function triangle_area that takes the parameters x0, y0, x1,y1, x2, and y2, and returns the area of the triangle with vertices (x0,y0), (x1,y1) and (x2,y2). (Hint: use the function point_distance as a helper function and apply Heron's formula.) Triangle area template --- Triangle area solution --- Triangle area (Checker)\n",
    "    Challenge: Write a Python function print_digits that takes an integer number in the range [0,100), i.e., at least 0, but less than 100. It prints the message \"The tens digit is %, and the ones digit is %.\", where the percent signs should be replaced with the appropriate values. (Hint: Use the arithmetic operators for integer division // and remainder % to find the two digits. Note that this function should print the desired message, rather than returning it as a string. Print digits template --- Print digits solution --- Print digits (Checker)\n",
    "    Challenge: Powerball is lottery game in which 6 numbers are drawn at random. Players can purchase a lottery ticket with a specific number combination and, if the number on the ticket matches the numbers generated in a random drawing, the player wins a massive jackpot. Write a Python function powerball that takes no arguments and prints the message \"Today's numbers are %, %, %, %, and %. The Powerball number is %.\". The first five numbers should be random integers in the range [1,60), i.e., at least 1, but less than 60. In reality, these five numbers must all be distinct, but for this problem, we will allow duplicates. The Powerball number is a random integer in the range [1,36), i.e., at least 1 but less than 36. Use the random module and the function random.randrange to generate the appropriate random numbers.Note that this function should print the desired message, rather than returning it as a string. Powerball template --- Powerball solution --- Powerball (Checker)"
   ]
  }
 ],
 "metadata": {
  "kernelspec": {
   "display_name": "Python [default]",
   "language": "python",
   "name": "python3"
  },
  "language_info": {
   "codemirror_mode": {
    "name": "ipython",
    "version": 3
   },
   "file_extension": ".py",
   "mimetype": "text/x-python",
   "name": "python",
   "nbconvert_exporter": "python",
   "pygments_lexer": "ipython3",
   "version": "3.6.2"
  }
 },
 "nbformat": 4,
 "nbformat_minor": 2
}
