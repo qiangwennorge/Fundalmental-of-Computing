{
 "cells": [
  {
   "cell_type": "markdown",
   "metadata": {},
   "source": [
    "## Homework 4"
   ]
  },
  {
   "cell_type": "markdown",
   "metadata": {},
   "source": [
    "### Sequence generation function"
   ]
  },
  {
   "cell_type": "code",
   "execution_count": 1,
   "metadata": {
    "collapsed": true
   },
   "outputs": [],
   "source": [
    "import math\n",
    "def gen_all_sequences(outcomes, length):\n",
    "    '''\n",
    "    function that enumerates the set of all sequences of outcomes of given length;\n",
    "    original code from the lecture, do not modify\n",
    "    '''\n",
    "    answer_set = set([()])\n",
    "    for dummy_idx in range(length):\n",
    "        temp_set = set()\n",
    "        for partial_sequence in answer_set:\n",
    "            for item in outcomes:\n",
    "                new_sequence = list(partial_sequence)\n",
    "                new_sequence.append(item)\n",
    "                temp_set.add(tuple(new_sequence))\n",
    "        answer_set = temp_set\n",
    "    return answer_set"
   ]
  },
  {
   "cell_type": "markdown",
   "metadata": {},
   "source": [
    "### Question 1"
   ]
  },
  {
   "cell_type": "markdown",
   "metadata": {},
   "source": [
    "Enumeration\n",
    "\n",
    "Given the set of outcomes corresponding to a coin flip, {Heads,Tails}, how many sequences of outcomes of length five (repetition allowed) are possible?\n"
   ]
  },
  {
   "cell_type": "markdown",
   "metadata": {},
   "source": [
    "- 2^5 = 32"
   ]
  },
  {
   "cell_type": "markdown",
   "metadata": {},
   "source": [
    "### Question 2"
   ]
  },
  {
   "cell_type": "markdown",
   "metadata": {},
   "source": [
    "Probability for sequences of trials\n",
    "\n",
    "Consider a sequence of trials in which a fair four-sided die (with faces numbered 1-4) is rolled twice. What is the expected value of the product of the two die rolls? Enter the answer as a floating point number below."
   ]
  },
  {
   "cell_type": "code",
   "execution_count": 4,
   "metadata": {},
   "outputs": [
    {
     "name": "stdout",
     "output_type": "stream",
     "text": [
      "Question 2 answer: 6.25\n"
     ]
    }
   ],
   "source": [
    "def ques_two():\n",
    "    seq = gen_all_sequences((1, 2, 3, 4), 2)\n",
    "    expected_val = 0\n",
    "    for item in seq:\n",
    "        expected_val += item[0] * item[1]\n",
    "    return expected_val * (1 / 16.0)\n",
    "\n",
    "print('Question 2 answer:', ques_two())"
   ]
  },
  {
   "cell_type": "markdown",
   "metadata": {},
   "source": [
    "### Question 3"
   ]
  },
  {
   "cell_type": "markdown",
   "metadata": {},
   "source": [
    "Given a trial in which a decimal digit is selected from the list [\"0\", \"1\", \"2\", \"3\", \"4\", \"5\", \"6\", \"7\", \"8\", \"9\"] with equal probability 0.1, consider a five-digit string created by a sequence of such trials (leading zeros and repeated digits are allowed). What is the probability that this five-digit string consists of five consecutive digits in either ascending or descending order (e.g; \"34567\" or \"43210\") ?\n",
    "\n",
    "Enter your answer as a floating point number with at least four significant digits of precision."
   ]
  },
  {
   "cell_type": "code",
   "execution_count": 12,
   "metadata": {},
   "outputs": [
    {
     "name": "stdout",
     "output_type": "stream",
     "text": [
      "Question 3 answer: 0.0024600000000000004\n"
     ]
    }
   ],
   "source": [
    "def ques_three():\n",
    "    all_seq = gen_all_sequences((0, 1, 2, 3, 4, 5, 6, 7, 8, 9), 5)\n",
    "    total = 0\n",
    "    for seq in all_seq:\n",
    "        seq_lst = list(seq)\n",
    "        check = 0\n",
    "        if seq_lst == sorted(seq):\n",
    "            check = 1\n",
    "        elif seq_lst == sorted(seq, reverse=True):\n",
    "            check = -1\n",
    "        if all( seq[i]+check == seq[i+1] or seq[i] == seq[i+1] for i in range(len(seq)-1) ) and check != 0:\n",
    "            total += 1\n",
    "    prob = 1.0 / len(all_seq)\n",
    "    return total * prob\n",
    "\n",
    "print('Question 3 answer:', ques_three())"
   ]
  },
  {
   "cell_type": "code",
   "execution_count": 8,
   "metadata": {},
   "outputs": [
    {
     "name": "stdout",
     "output_type": "stream",
     "text": [
      "Question 4 answer: 0.00012\n"
     ]
    }
   ],
   "source": [
    "def sequence_all():\n",
    "    '''\n",
    "    what is the probability that this five-digit string consists of five\n",
    "    consecutive digits in either ascending or descending order (e.g; \"34567\" or \"43210\")\n",
    "    '''\n",
    "    possibilities = gen_all_sequences((0, 1, 2, 3, 4, 5, 6, 7, 8, 9), 5)\n",
    "    count = 0\n",
    "    \n",
    "    for item in possibilities:\n",
    "        for element in item:\n",
    "            if all(earlier + 1 == later for earlier, later in zip(item, item[1:])):\n",
    "                count += 1\n",
    "    # counter kept track of each element in item (thus 30 / 5), also must count\n",
    "    # both ascending and descending sequences (thus 6 * 2)\n",
    "    count /= len(item)\n",
    "    return count * 2.0 / len(possibilities)\n",
    "\n",
    "print('Question 4 answer:', sequence_all())"
   ]
  },
  {
   "cell_type": "markdown",
   "metadata": {},
   "source": [
    "3. Given a trial in which a decimal digit is selected from the list [\"0\", \"1\", \"2\", \"3\", \"4\", \"5\", \"6\", \"7\", \"8\", \"9\"] with equal probability 0.1, consider a five-digit string created by a sequence of such trials (leading zeros and repeated digits are allowed). What is the probability that this five-digit string consists of five consecutive digits in either ascending or descending order (e.g; \"34567\" or \"43210\") ?\n",
    "\n",
    "4. Consider a trial in which five digit strings are formed as permutations of the digits [\"0\", \"1\", \"2\", \"3\", \"4\", \"5\", \"6\", \"7\", \"8\", \"9\"]. (In this case, repetition of digits is not allowed.) If the probability of each permutation is the same, what is the probability that this five digits string consists of consecutive digits in either ascending or descending order (e.g; \"34567\" or \"43210\") ?\n",
    "\n"
   ]
  },
  {
   "cell_type": "code",
   "execution_count": 7,
   "metadata": {},
   "outputs": [
    {
     "name": "stdout",
     "output_type": "stream",
     "text": [
      "Question 5 answer: 0.0003968\n"
     ]
    }
   ],
   "source": [
    "def sequence_perm():\n",
    "    '''\n",
    "    what is the probability that this five-digit string consists of five\n",
    "    consecutive digits in either ascending or descending order (e.g; \"34567\" or \"43210\")\n",
    "    '''\n",
    "    # same ascending and descending sequences (12 in total) from Question 4\n",
    "    return 12.0 / (math.factorial(10) / math.factorial(10 - 5))\n",
    "\n",
    "print('Question 5 answer:', '{:03.7f}'.format(sequence_perm()))"
   ]
  },
  {
   "cell_type": "markdown",
   "metadata": {},
   "source": [
    "### Question 4"
   ]
  },
  {
   "cell_type": "markdown",
   "metadata": {},
   "source": [
    "Permutations\n",
    "\n",
    "Consider a trial in which five digit strings are formed as permutations of the digits [\"0\", \"1\", \"2\", \"3\", \"4\", \"5\", \"6\", \"7\", \"8\", \"9\"]. (In this case, repetition of digits is not allowed.) If the probability of each permutation is the same, what is the probability that this five digits string consists of consecutive digits in either ascending or descending order (e.g; \"34567\" or \"43210\") ?\n",
    "\n",
    "Enter your answer as a floating point number with at least four significant digits of precision."
   ]
  },
  {
   "cell_type": "code",
   "execution_count": 11,
   "metadata": {},
   "outputs": [
    {
     "name": "stdout",
     "output_type": "stream",
     "text": [
      "Question 4 answer: 0.00012000000000000002\n"
     ]
    }
   ],
   "source": [
    "def ques_four():\n",
    "    all_seq = gen_all_sequences((0, 1, 2, 3, 4, 5, 6, 7, 8, 9), 5)\n",
    "    total = 0\n",
    "    for seq in all_seq:\n",
    "        seq_lst = list(seq)\n",
    "        check = 0\n",
    "        if seq_lst == sorted(seq):\n",
    "            check = 1\n",
    "        elif seq_lst == sorted(seq, reverse=True):\n",
    "            check = -1\n",
    "        if all( seq[i]+check == seq[i+1] for i in range(len(seq)-1)) and check != 0:\n",
    "            total += 1\n",
    "            #print(seq)\n",
    "    prob = 1.0 / len(all_seq)\n",
    "    return total * prob\n",
    "\n",
    "print('Question 4 answer:', ques_four())"
   ]
  },
  {
   "cell_type": "markdown",
   "metadata": {},
   "source": [
    "### Question 5"
   ]
  },
  {
   "cell_type": "markdown",
   "metadata": {},
   "source": [
    "In this week's lectures, we discussed an iterative approach to generating all sequences of outcomes where repeated outcomes were allowed. Starting from this program template, implement a function gen_permutations(outcomes, num_trials) that takes a list of outcomes and a number of trials and returns a set of all possible permutations of length num_trials (encoded as tuples) from this set of outcomes.\n",
    "\n",
    "Hint: gen_permutations can be built from gen_all_sequences by adding a single if statement that prevents repeated outcomes. When you believe that your code works correctly, select the answer printed at the bottom of the console. "
   ]
  },
  {
   "cell_type": "code",
   "execution_count": 13,
   "metadata": {
    "collapsed": true
   },
   "outputs": [],
   "source": [
    "def gen_permutations(outcomes, length):\n",
    "    \"\"\"\n",
    "    Iterative function that generates set of permutations of\n",
    "    outcomes of length num_trials\n",
    "    No repeated outcomes allowed\n",
    "    \"\"\"\n",
    "    ans = set([()])\n",
    "    for dummy_idx in range(length):\n",
    "        temp = set()\n",
    "        for seq in ans:\n",
    "            for item in outcomes:\n",
    "                if item not in seq:\n",
    "                    new_seq = list(seq)\n",
    "                    new_seq.append(item)\n",
    "                    temp.add(tuple(new_seq))\n",
    "        ans = temp\n",
    "    return ans"
   ]
  },
  {
   "cell_type": "code",
   "execution_count": 17,
   "metadata": {},
   "outputs": [
    {
     "name": "stdout",
     "output_type": "stream",
     "text": [
      "Computed 30 permutations of length 2\n",
      "Permutations were {('d', 'a'), ('c', 'a'), ('b', 'c'), ('b', 'd'), ('e', 'c'), ('e', 'd'), ('b', 'e'), ('c', 'f'), ('d', 'f'), ('e', 'a'), ('a', 'e'), ('a', 'c'), ('d', 'b'), ('c', 'b'), ('e', 'b'), ('a', 'd'), ('f', 'b'), ('e', 'f'), ('b', 'f'), ('f', 'a'), ('f', 'e'), ('f', 'c'), ('f', 'd'), ('a', 'f'), ('d', 'e'), ('c', 'e'), ('d', 'c'), ('c', 'd'), ('a', 'b'), ('b', 'a')}\n"
     ]
    }
   ],
   "source": [
    "def run_example():\n",
    "\n",
    "    # example for digits\n",
    "    #outcome = [0, 1, 2, 3, 4, 5, 6, 7, 8, 9]\n",
    "    #outcome = [\"Red\", \"Green\", \"Blue\"]\n",
    "    outcome = set(['a', 'b', 'c', 'd', 'e', 'f'])\n",
    "    #outcome = [\"Sunday\", \"Monday\", \"Tuesday\", \"Wednesday\", \"Thursday\", \"Friday\", \"Saturday\"]\n",
    "    \n",
    "    length = 2\n",
    "    permtutations = gen_permutations(outcome, length)\n",
    "    print(\"Computed\", len(permtutations), \"permutations of length\", str(length))\n",
    "    print(\"Permutations were\", permtutations)\n",
    "\n",
    "    \n",
    "\n",
    "run_example()"
   ]
  },
  {
   "cell_type": "markdown",
   "metadata": {},
   "source": [
    "### Question 6"
   ]
  },
  {
   "cell_type": "markdown",
   "metadata": {},
   "source": [
    "Subsets\n",
    "\n",
    "A set S is a subset of another set T (mathematically denoted as S⊆T) if every element x in S (mathematically denoted as x∈S) is also a member of T. Which of the following sets are subsets of the set {1,2}?"
   ]
  },
  {
   "cell_type": "markdown",
   "metadata": {},
   "source": [
    "- {}, {1}, {1,2}"
   ]
  },
  {
   "cell_type": "markdown",
   "metadata": {},
   "source": [
    "### Question 7"
   ]
  },
  {
   "cell_type": "markdown",
   "metadata": {},
   "source": [
    "If the set T has n members, how many distinct sets S are subsets of T? You may want to figure out the answer for a few specific values of n first. Enter the answer below as a math expression in n."
   ]
  },
  {
   "cell_type": "markdown",
   "metadata": {},
   "source": [
    "- 2^n"
   ]
  },
  {
   "cell_type": "markdown",
   "metadata": {},
   "source": [
    "### Question 8"
   ]
  },
  {
   "cell_type": "markdown",
   "metadata": {},
   "source": [
    "Combinations\n",
    "\n",
    "Given a standard 52 card deck of playing cards, what is the probability of being dealt a five card hand where all five cards are of the same suit?\n",
    "\n",
    "Hint: Use the formula for combinations to compute the number of possible five card hands when the choice of cards is restricted to a single suit versus when the choice of cards is unrestricted.\n",
    "\n",
    "Compute your answer in Python using math.factorial and enter the answer below as a floating point number with at least four significant digits of precision."
   ]
  },
  {
   "cell_type": "markdown",
   "metadata": {},
   "source": [
    "4 * ( 13! / ((13-5)!5!) ) / ( 52! / ((52-5)!5!))\n",
    "- 0.00198079231693\n"
   ]
  },
  {
   "cell_type": "markdown",
   "metadata": {},
   "source": [
    "### Question 9"
   ]
  },
  {
   "cell_type": "markdown",
   "metadata": {},
   "source": [
    "Pascal's triangle is a triangular array of numbers in which the entry on one row of the triangle corresponds to the sum of the two entries directly above the entry. This program prints out the first few rows of Pascal's triangle.\n",
    "\n",
    "Enter a math expression in m and n using factorial (!) that represents the value of the nth entry of the mth row of Pascal's triangle. (Both the row numbers and entry numbers are indexed starting at zero.)"
   ]
  },
  {
   "cell_type": "markdown",
   "metadata": {},
   "source": [
    "- m!/(n! * (m-n)!)"
   ]
  }
 ],
 "metadata": {
  "kernelspec": {
   "display_name": "Python [default]",
   "language": "python",
   "name": "python3"
  },
  "language_info": {
   "codemirror_mode": {
    "name": "ipython",
    "version": 3
   },
   "file_extension": ".py",
   "mimetype": "text/x-python",
   "name": "python",
   "nbconvert_exporter": "python",
   "pygments_lexer": "ipython3",
   "version": "3.6.2"
  }
 },
 "nbformat": 4,
 "nbformat_minor": 2
}
