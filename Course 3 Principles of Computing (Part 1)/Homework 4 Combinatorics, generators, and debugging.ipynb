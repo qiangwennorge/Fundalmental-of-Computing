{
 "cells": [
  {
   "cell_type": "markdown",
   "metadata": {},
   "source": [
    "## Homework 4"
   ]
  },
  {
   "cell_type": "markdown",
   "metadata": {},
   "source": [
    "### Sequence generation function"
   ]
  },
  {
   "cell_type": "code",
   "execution_count": 3,
   "metadata": {
    "collapsed": true
   },
   "outputs": [],
   "source": [
    "import math\n",
    "def gen_all_sequences(outcomes, length):\n",
    "    '''\n",
    "    function that enumerates the set of all sequences of outcomes of given length;\n",
    "    original code from the lecture, do not modify\n",
    "    '''\n",
    "    answer_set = set([()])\n",
    "    for dummy_idx in range(length):\n",
    "        temp_set = set()\n",
    "        for partial_sequence in answer_set:\n",
    "            for item in outcomes:\n",
    "                new_sequence = list(partial_sequence)\n",
    "                new_sequence.append(item)\n",
    "                temp_set.add(tuple(new_sequence))\n",
    "        answer_set = temp_set\n",
    "    return answer_set"
   ]
  },
  {
   "cell_type": "markdown",
   "metadata": {},
   "source": [
    "### Question 1"
   ]
  },
  {
   "cell_type": "markdown",
   "metadata": {},
   "source": [
    "Enumeration\n",
    "\n",
    "Given the set of outcomes corresponding to a coin flip, {Heads,Tails}, how many sequences of outcomes of length five (repetition allowed) are possible?\n"
   ]
  },
  {
   "cell_type": "markdown",
   "metadata": {},
   "source": [
    "- 2^5 = 32"
   ]
  },
  {
   "cell_type": "markdown",
   "metadata": {},
   "source": [
    "### Question 2"
   ]
  },
  {
   "cell_type": "markdown",
   "metadata": {},
   "source": [
    "Probability for sequences of trials\n",
    "\n",
    "Consider a sequence of trials in which a fair four-sided die (with faces numbered 1-4) is rolled twice. What is the expected value of the product of the two die rolls? Enter the answer as a floating point number below."
   ]
  },
  {
   "cell_type": "code",
   "execution_count": 4,
   "metadata": {},
   "outputs": [
    {
     "name": "stdout",
     "output_type": "stream",
     "text": [
      "Question 2 answer: 6.25\n"
     ]
    }
   ],
   "source": [
    "def ques_two():\n",
    "    seq = gen_all_sequences((1, 2, 3, 4), 2)\n",
    "    expected_val = 0\n",
    "    for item in seq:\n",
    "        expected_val += item[0] * item[1]\n",
    "    return expected_val * (1 / 16.0)\n",
    "\n",
    "print('Question 2 answer:', ques_two())"
   ]
  },
  {
   "cell_type": "markdown",
   "metadata": {},
   "source": [
    "### Question 3"
   ]
  },
  {
   "cell_type": "markdown",
   "metadata": {},
   "source": [
    "Given a trial in which a decimal digit is selected from the list [\"0\", \"1\", \"2\", \"3\", \"4\", \"5\", \"6\", \"7\", \"8\", \"9\"] with equal probability 0.1, consider a five-digit string created by a sequence of such trials (leading zeros and repeated digits are allowed). What is the probability that this five-digit string consists of five consecutive digits in either ascending or descending order (e.g; \"34567\" or \"43210\") ?\n",
    "\n",
    "Enter your answer as a floating point number with at least four significant digits of precision."
   ]
  },
  {
   "cell_type": "code",
   "execution_count": 6,
   "metadata": {},
   "outputs": [
    {
     "name": "stdout",
     "output_type": "stream",
     "text": [
      "Question 3 answer: 0.00012000000000000002\n"
     ]
    }
   ],
   "source": [
    "def ques_three():\n",
    "    all_seq = gen_all_sequences((0, 1, 2, 3, 4, 5, 6, 7, 8, 9), 5)\n",
    "    total = 0\n",
    "    for seq in all_seq:\n",
    "        seq_lst = list(seq)\n",
    "        check = 0\n",
    "        if seq_lst == sorted(seq):\n",
    "            check = 1\n",
    "        elif seq_lst == sorted(seq, reverse=True):\n",
    "            check = -1\n",
    "        if all( seq[i]+check == seq[i+1] for i in range(len(seq)-1) ) and check != 0:\n",
    "            total += 1\n",
    "    prob = 1.0 / len(all_seq)\n",
    "    return total * prob\n",
    "\n",
    "print('Question 3 answer:', ques_three())"
   ]
  },
  {
   "cell_type": "code",
   "execution_count": 7,
   "metadata": {},
   "outputs": [
    {
     "name": "stdout",
     "output_type": "stream",
     "text": [
      "Question 3 answer: 0.00012\n"
     ]
    }
   ],
   "source": [
    "def ques_three():\n",
    "    '''\n",
    "    what is the probability that this five-digit string consists of five\n",
    "    consecutive digits in either ascending or descending order (e.g; \"34567\" or \"43210\")\n",
    "    '''\n",
    "    possibilities = gen_all_sequences((0, 1, 2, 3, 4, 5, 6, 7, 8, 9), 5)\n",
    "    count = 0\n",
    "    \n",
    "    for item in possibilities:\n",
    "        for element in item:\n",
    "            if all(earlier + 1 == later for earlier, later in zip(item, item[1:])):\n",
    "                count += 1\n",
    "    # counter kept track of each element in item (thus 30 / 5), also must count\n",
    "    # both ascending and descending sequences (thus 6 * 2)\n",
    "    count /= len(item)\n",
    "    return count * 2.0 / len(possibilities)\n",
    "\n",
    "print('Question 3 answer:', ques_three())"
   ]
  },
  {
   "cell_type": "markdown",
   "metadata": {},
   "source": [
    "Each outcome has probability 0.00001. There are six strings with consecutive ascending digits and six string with consecutive descending digits. Therefore, the probability of this event is 0.00012."
   ]
  },
  {
   "cell_type": "markdown",
   "metadata": {},
   "source": [
    "### Question 4"
   ]
  },
  {
   "cell_type": "markdown",
   "metadata": {},
   "source": [
    "Permutations\n",
    "\n",
    "Consider a trial in which five digit strings are formed as permutations of the digits [\"0\", \"1\", \"2\", \"3\", \"4\", \"5\", \"6\", \"7\", \"8\", \"9\"]. (In this case, repetition of digits is not allowed.) If the probability of each permutation is the same, what is the probability that this five digits string consists of consecutive digits in either ascending or descending order (e.g; \"34567\" or \"43210\") ?\n",
    "\n",
    "Enter your answer as a floating point number with at least four significant digits of precision."
   ]
  },
  {
   "cell_type": "code",
   "execution_count": 8,
   "metadata": {},
   "outputs": [
    {
     "name": "stdout",
     "output_type": "stream",
     "text": [
      "Question 4 answer: 0.0003968253968253968\n"
     ]
    }
   ],
   "source": [
    "def ques_four():\n",
    "    # same ascending and descending sequences (12 in total) from Question 4\n",
    "    return 12.0 / (math.factorial(10) / math.factorial(10 - 5))\n",
    "\n",
    "print('Question 4 answer:', ques_four())"
   ]
  },
  {
   "cell_type": "markdown",
   "metadata": {},
   "source": [
    "### Question 5"
   ]
  },
  {
   "cell_type": "markdown",
   "metadata": {},
   "source": [
    "In this week's lectures, we discussed an iterative approach to generating all sequences of outcomes where repeated outcomes were allowed. Starting from this program template, implement a function gen_permutations(outcomes, num_trials) that takes a list of outcomes and a number of trials and returns a set of all possible permutations of length num_trials (encoded as tuples) from this set of outcomes.\n",
    "\n",
    "Hint: gen_permutations can be built from gen_all_sequences by adding a single if statement that prevents repeated outcomes. When you believe that your code works correctly, select the answer printed at the bottom of the console. "
   ]
  },
  {
   "cell_type": "code",
   "execution_count": 10,
   "metadata": {
    "collapsed": true
   },
   "outputs": [],
   "source": [
    "def gen_permutations(outcomes, length):\n",
    "    \"\"\"\n",
    "    Iterative function that generates set of permutations of\n",
    "    outcomes of length num_trials\n",
    "    No repeated outcomes allowed\n",
    "    \"\"\"\n",
    "    ans = set([()])\n",
    "    for dummy_idx in range(length):\n",
    "        temp = set()\n",
    "        for seq in ans:\n",
    "            for item in outcomes:\n",
    "                if item not in seq:\n",
    "                    new_seq = list(seq)\n",
    "                    new_seq.append(item)\n",
    "                    temp.add(tuple(new_seq))\n",
    "        ans = temp\n",
    "    return ans"
   ]
  },
  {
   "cell_type": "code",
   "execution_count": 11,
   "metadata": {},
   "outputs": [
    {
     "name": "stdout",
     "output_type": "stream",
     "text": [
      "Computed 360 permutations of length 4\n",
      "Permutations were {('e', 'f', 'a', 'd'), ('c', 'd', 'a', 'b'), ('f', 'e', 'b', 'a'), ('a', 'f', 'b', 'd'), ('f', 'd', 'a', 'b'), ('a', 'c', 'b', 'f'), ('c', 'a', 'd', 'f'), ('f', 'e', 'a', 'd'), ('e', 'a', 'b', 'c'), ('c', 'd', 'a', 'e'), ('d', 'f', 'b', 'e'), ('b', 'd', 'e', 'c'), ('c', 'd', 'f', 'e'), ('b', 'c', 'f', 'd'), ('f', 'c', 'b', 'a'), ('e', 'f', 'd', 'c'), ('b', 'f', 'd', 'c'), ('b', 'f', 'e', 'a'), ('f', 'b', 'a', 'c'), ('c', 'e', 'b', 'd'), ('c', 'b', 'd', 'a'), ('b', 'd', 'f', 'e'), ('b', 'e', 'f', 'd'), ('c', 'a', 'd', 'b'), ('c', 'b', 'f', 'd'), ('e', 'd', 'c', 'a'), ('f', 'b', 'c', 'd'), ('b', 'a', 'e', 'd'), ('c', 'b', 'a', 'e'), ('d', 'f', 'e', 'c'), ('d', 'a', 'b', 'c'), ('b', 'd', 'a', 'c'), ('d', 'e', 'b', 'f'), ('f', 'e', 'c', 'd'), ('e', 'f', 'c', 'd'), ('d', 'f', 'b', 'c'), ('e', 'd', 'c', 'f'), ('d', 'f', 'a', 'e'), ('a', 'c', 'f', 'b'), ('d', 'b', 'f', 'e'), ('a', 'c', 'd', 'f'), ('d', 'a', 'b', 'e'), ('e', 'b', 'a', 'd'), ('f', 'c', 'a', 'd'), ('a', 'f', 'd', 'c'), ('f', 'b', 'e', 'c'), ('a', 'e', 'b', 'f'), ('f', 'b', 'c', 'e'), ('c', 'b', 'd', 'f'), ('c', 'f', 'd', 'b'), ('a', 'c', 'e', 'f'), ('a', 'b', 'f', 'c'), ('a', 'd', 'b', 'f'), ('a', 'f', 'e', 'b'), ('f', 'c', 'e', 'd'), ('d', 'f', 'c', 'e'), ('c', 'f', 'a', 'd'), ('e', 'c', 'a', 'f'), ('c', 'b', 'a', 'd'), ('a', 'b', 'e', 'd'), ('e', 'b', 'a', 'c'), ('d', 'c', 'a', 'e'), ('e', 'a', 'f', 'd'), ('b', 'e', 'd', 'c'), ('e', 'd', 'f', 'a'), ('a', 'f', 'd', 'b'), ('a', 'e', 'b', 'd'), ('f', 'a', 'd', 'e'), ('f', 'a', 'c', 'd'), ('c', 'a', 'b', 'f'), ('e', 'b', 'd', 'a'), ('b', 'e', 'a', 'f'), ('a', 'e', 'c', 'b'), ('b', 'a', 'e', 'c'), ('f', 'd', 'a', 'c'), ('a', 'e', 'c', 'f'), ('f', 'a', 'b', 'c'), ('a', 'b', 'c', 'f'), ('f', 'e', 'a', 'c'), ('e', 'a', 'c', 'b'), ('d', 'a', 'b', 'f'), ('f', 'b', 'd', 'e'), ('e', 'b', 'd', 'f'), ('e', 'a', 'f', 'b'), ('c', 'f', 'b', 'a'), ('f', 'd', 'b', 'a'), ('e', 'd', 'b', 'f'), ('c', 'd', 'e', 'b'), ('a', 'e', 'c', 'd'), ('d', 'f', 'b', 'a'), ('c', 'a', 'd', 'e'), ('b', 'f', 'c', 'd'), ('a', 'd', 'f', 'e'), ('a', 'f', 'c', 'b'), ('f', 'd', 'e', 'b'), ('a', 'c', 'd', 'b'), ('a', 'd', 'f', 'b'), ('c', 'b', 'e', 'd'), ('b', 'e', 'c', 'a'), ('c', 'e', 'a', 'b'), ('d', 'a', 'f', 'b'), ('a', 'b', 'd', 'f'), ('d', 'e', 'c', 'f'), ('f', 'a', 'c', 'b'), ('b', 'a', 'c', 'f'), ('e', 'a', 'd', 'c'), ('c', 'a', 'e', 'b'), ('a', 'b', 'f', 'd'), ('f', 'e', 'd', 'b'), ('a', 'c', 'f', 'd'), ('e', 'd', 'f', 'c'), ('f', 'b', 'c', 'a'), ('b', 'f', 'd', 'a'), ('d', 'c', 'e', 'b'), ('c', 'e', 'b', 'a'), ('f', 'c', 'd', 'b'), ('e', 'd', 'b', 'c'), ('d', 'b', 'a', 'e'), ('e', 'd', 'b', 'a'), ('d', 'a', 'f', 'c'), ('d', 'c', 'b', 'a'), ('d', 'f', 'c', 'a'), ('f', 'c', 'd', 'a'), ('a', 'f', 'c', 'e'), ('b', 'd', 'a', 'e'), ('a', 'f', 'e', 'c'), ('b', 'a', 'f', 'e'), ('c', 'a', 'e', 'd'), ('d', 'a', 'f', 'e'), ('f', 'a', 'b', 'd'), ('b', 'f', 'a', 'c'), ('d', 'e', 'b', 'a'), ('b', 'c', 'a', 'd'), ('b', 'a', 'd', 'c'), ('d', 'b', 'e', 'f'), ('e', 'a', 'f', 'c'), ('b', 'a', 'f', 'd'), ('f', 'b', 'd', 'a'), ('f', 'd', 'e', 'a'), ('c', 'e', 'b', 'f'), ('e', 'c', 'f', 'a'), ('e', 'b', 'a', 'f'), ('e', 'c', 'd', 'a'), ('a', 'f', 'c', 'd'), ('d', 'b', 'c', 'e'), ('f', 'e', 'a', 'b'), ('f', 'e', 'b', 'd'), ('e', 'f', 'b', 'c'), ('d', 'b', 'a', 'f'), ('d', 'c', 'a', 'f'), ('f', 'a', 'e', 'd'), ('e', 'b', 'f', 'a'), ('c', 'b', 'f', 'e'), ('c', 'd', 'e', 'a'), ('a', 'b', 'c', 'e'), ('f', 'd', 'b', 'c'), ('b', 'c', 'd', 'e'), ('d', 'b', 'c', 'a'), ('e', 'd', 'a', 'c'), ('a', 'c', 'e', 'd'), ('b', 'd', 'c', 'f'), ('d', 'a', 'e', 'f'), ('a', 'b', 'e', 'c'), ('d', 'b', 'f', 'a'), ('e', 'c', 'd', 'f'), ('c', 'e', 'd', 'f'), ('c', 'b', 'f', 'a'), ('e', 'f', 'd', 'a'), ('a', 'd', 'e', 'f'), ('b', 'f', 'e', 'c'), ('b', 'c', 'd', 'a'), ('c', 'b', 'a', 'f'), ('e', 'b', 'd', 'c'), ('d', 'e', 'f', 'b'), ('f', 'e', 'c', 'a'), ('c', 'a', 'f', 'e'), ('b', 'c', 'f', 'e'), ('b', 'd', 'c', 'a'), ('b', 'c', 'e', 'a'), ('d', 'f', 'c', 'b'), ('d', 'e', 'c', 'b'), ('a', 'b', 'd', 'c'), ('b', 'e', 'a', 'd'), ('e', 'b', 'f', 'd'), ('c', 'e', 'a', 'f'), ('a', 'e', 'd', 'f'), ('a', 'd', 'c', 'f'), ('f', 'e', 'd', 'a'), ('d', 'e', 'f', 'a'), ('c', 'f', 'e', 'b'), ('d', 'e', 'f', 'c'), ('d', 'e', 'c', 'a'), ('e', 'd', 'a', 'b'), ('f', 'd', 'c', 'e'), ('f', 'b', 'e', 'a'), ('b', 'd', 'f', 'a'), ('b', 'e', 'f', 'c'), ('f', 'a', 'b', 'e'), ('f', 'b', 'a', 'd'), ('f', 'c', 'e', 'a'), ('a', 'd', 'b', 'e'), ('a', 'e', 'b', 'c'), ('a', 'f', 'b', 'c'), ('f', 'c', 'e', 'b'), ('e', 'c', 'b', 'f'), ('a', 'f', 'e', 'd'), ('e', 'b', 'c', 'a'), ('f', 'd', 'e', 'c'), ('a', 'e', 'd', 'c'), ('e', 'd', 'a', 'f'), ('a', 'd', 'f', 'c'), ('b', 'd', 'a', 'f'), ('d', 'e', 'b', 'c'), ('b', 'e', 'd', 'f'), ('a', 'd', 'c', 'b'), ('a', 'e', 'd', 'b'), ('f', 'c', 'a', 'b'), ('a', 'f', 'b', 'e'), ('e', 'c', 'b', 'a'), ('e', 'c', 'd', 'b'), ('d', 'a', 'c', 'f'), ('c', 'f', 'd', 'a'), ('a', 'd', 'b', 'c'), ('a', 'd', 'e', 'b'), ('a', 'c', 'b', 'd'), ('b', 'a', 'd', 'f'), ('d', 'b', 'e', 'c'), ('c', 'e', 'd', 'b'), ('f', 'e', 'b', 'c'), ('f', 'c', 'b', 'd'), ('d', 'a', 'e', 'b'), ('e', 'a', 'd', 'b'), ('d', 'b', 'c', 'f'), ('f', 'a', 'e', 'c'), ('e', 'f', 'b', 'd'), ('e', 'b', 'c', 'f'), ('d', 'e', 'a', 'b'), ('f', 'd', 'b', 'e'), ('e', 'f', 'c', 'b'), ('d', 'c', 'f', 'a'), ('c', 'f', 'd', 'e'), ('e', 'f', 'a', 'b'), ('b', 'e', 'c', 'd'), ('b', 'c', 'd', 'f'), ('c', 'b', 'e', 'a'), ('b', 'a', 'f', 'c'), ('d', 'c', 'b', 'f'), ('e', 'd', 'c', 'b'), ('c', 'a', 'f', 'b'), ('a', 'b', 'd', 'e'), ('b', 'd', 'c', 'e'), ('b', 'f', 'd', 'e'), ('e', 'f', 'c', 'a'), ('d', 'e', 'a', 'f'), ('a', 'e', 'f', 'b'), ('e', 'b', 'f', 'c'), ('e', 'a', 'd', 'f'), ('e', 'f', 'b', 'a'), ('a', 'd', 'c', 'e'), ('c', 'a', 'f', 'd'), ('f', 'a', 'c', 'e'), ('b', 'c', 'f', 'a'), ('a', 'c', 'f', 'e'), ('d', 'c', 'e', 'f'), ('a', 'c', 'b', 'e'), ('c', 'd', 'b', 'e'), ('c', 'a', 'e', 'f'), ('a', 'e', 'f', 'd'), ('b', 'a', 'e', 'f'), ('d', 'a', 'c', 'b'), ('f', 'b', 'd', 'c'), ('d', 'f', 'a', 'c'), ('b', 'e', 'a', 'c'), ('b', 'c', 'a', 'f'), ('e', 'a', 'b', 'd'), ('c', 'd', 'a', 'f'), ('c', 'e', 'd', 'a'), ('c', 'e', 'f', 'a'), ('c', 'a', 'b', 'e'), ('b', 'f', 'a', 'e'), ('e', 'c', 'f', 'd'), ('f', 'd', 'a', 'e'), ('c', 'd', 'f', 'b'), ('f', 'a', 'd', 'c'), ('e', 'a', 'c', 'd'), ('a', 'e', 'f', 'c'), ('b', 'd', 'f', 'c'), ('c', 'e', 'f', 'b'), ('b', 'e', 'd', 'a'), ('e', 'a', 'b', 'f'), ('c', 'f', 'b', 'd'), ('a', 'b', 'c', 'd'), ('b', 'f', 'a', 'd'), ('e', 'f', 'd', 'b'), ('c', 'd', 'f', 'a'), ('f', 'a', 'd', 'b'), ('d', 'c', 'e', 'a'), ('f', 'c', 'b', 'e'), ('a', 'c', 'd', 'e'), ('d', 'b', 'e', 'a'), ('d', 'e', 'a', 'c'), ('d', 'b', 'a', 'c'), ('e', 'a', 'c', 'f'), ('d', 'a', 'c', 'e'), ('a', 'f', 'd', 'e'), ('c', 'd', 'e', 'f'), ('c', 'e', 'a', 'd'), ('c', 'e', 'f', 'd'), ('e', 'c', 'a', 'd'), ('b', 'c', 'a', 'e'), ('d', 'a', 'e', 'c'), ('a', 'b', 'e', 'f'), ('d', 'f', 'a', 'b'), ('d', 'c', 'f', 'b'), ('e', 'c', 'b', 'd'), ('f', 'c', 'd', 'e'), ('b', 'c', 'e', 'd'), ('b', 'd', 'e', 'f'), ('d', 'b', 'f', 'c'), ('c', 'a', 'b', 'd'), ('c', 'f', 'a', 'e'), ('e', 'c', 'a', 'b'), ('c', 'b', 'e', 'f'), ('c', 'b', 'd', 'e'), ('b', 'a', 'c', 'e'), ('b', 'a', 'd', 'e'), ('d', 'f', 'e', 'b'), ('a', 'b', 'f', 'e'), ('c', 'd', 'b', 'a'), ('c', 'f', 'e', 'd'), ('b', 'a', 'c', 'd'), ('f', 'c', 'a', 'e'), ('b', 'c', 'e', 'f'), ('f', 'e', 'c', 'b'), ('f', 'b', 'e', 'd'), ('e', 'c', 'f', 'b'), ('d', 'f', 'e', 'a'), ('f', 'b', 'a', 'e'), ('d', 'c', 'b', 'e'), ('e', 'f', 'a', 'c'), ('c', 'f', 'b', 'e'), ('d', 'c', 'a', 'b'), ('a', 'c', 'e', 'b'), ('b', 'f', 'c', 'e'), ('f', 'd', 'c', 'b'), ('b', 'e', 'f', 'a'), ('f', 'a', 'e', 'b'), ('c', 'f', 'e', 'a'), ('e', 'b', 'c', 'd'), ('b', 'd', 'e', 'a'), ('b', 'e', 'c', 'f'), ('b', 'f', 'c', 'a'), ('e', 'd', 'f', 'b'), ('d', 'c', 'f', 'e'), ('f', 'e', 'd', 'c'), ('c', 'f', 'a', 'b'), ('b', 'f', 'e', 'd'), ('a', 'd', 'e', 'c'), ('f', 'd', 'c', 'a'), ('c', 'd', 'b', 'f')}\n"
     ]
    }
   ],
   "source": [
    "def run_example():\n",
    "\n",
    "    # example for digits\n",
    "    #outcome = [0, 1, 2, 3, 4, 5, 6, 7, 8, 9]\n",
    "    #outcome = [\"Red\", \"Green\", \"Blue\"]\n",
    "    outcome = set(['a', 'b', 'c', 'd', 'e', 'f'])\n",
    "    #outcome = [\"Sunday\", \"Monday\", \"Tuesday\", \"Wednesday\", \"Thursday\", \"Friday\", \"Saturday\"]\n",
    "    \n",
    "    length = 4\n",
    "    permtutations = gen_permutations(outcome, length)\n",
    "    print(\"Computed\", len(permtutations), \"permutations of length\", str(length))\n",
    "    print(\"Permutations were\", permtutations)\n",
    "\n",
    "    \n",
    "\n",
    "run_example()"
   ]
  },
  {
   "cell_type": "markdown",
   "metadata": {},
   "source": [
    "### Question 6"
   ]
  },
  {
   "cell_type": "markdown",
   "metadata": {},
   "source": [
    "Subsets\n",
    "\n",
    "A set S is a subset of another set T (mathematically denoted as S⊆T) if every element x in S (mathematically denoted as x∈S) is also a member of T. Which of the following sets are subsets of the set {1,2}?"
   ]
  },
  {
   "cell_type": "markdown",
   "metadata": {},
   "source": [
    "- {}, {1}, {1,2}"
   ]
  },
  {
   "cell_type": "markdown",
   "metadata": {},
   "source": [
    "### Question 7"
   ]
  },
  {
   "cell_type": "markdown",
   "metadata": {},
   "source": [
    "If the set T has n members, how many distinct sets S are subsets of T? You may want to figure out the answer for a few specific values of n first. Enter the answer below as a math expression in n."
   ]
  },
  {
   "cell_type": "markdown",
   "metadata": {},
   "source": [
    "- 2^n"
   ]
  },
  {
   "cell_type": "markdown",
   "metadata": {},
   "source": [
    "### Question 8"
   ]
  },
  {
   "cell_type": "markdown",
   "metadata": {},
   "source": [
    "Combinations\n",
    "\n",
    "Given a standard 52 card deck of playing cards, what is the probability of being dealt a five card hand where all five cards are of the same suit?\n",
    "\n",
    "Hint: Use the formula for combinations to compute the number of possible five card hands when the choice of cards is restricted to a single suit versus when the choice of cards is unrestricted.\n",
    "\n",
    "Compute your answer in Python using math.factorial and enter the answer below as a floating point number with at least four significant digits of precision."
   ]
  },
  {
   "cell_type": "markdown",
   "metadata": {},
   "source": [
    "4 * ( 13! / ((13-5)!5!) ) / ( 52! / ((52-5)!5!))\n",
    "- 0.00198079231693\n"
   ]
  },
  {
   "cell_type": "code",
   "execution_count": 12,
   "metadata": {},
   "outputs": [
    {
     "name": "stdout",
     "output_type": "stream",
     "text": [
      "Question 8 answer: 0.0019807923169267707\n"
     ]
    }
   ],
   "source": [
    "def ques_eight():\n",
    "    '''\n",
    "    what is the probability of being dealt a five card hand where all five cards are of the same suit?\n",
    "    '''\n",
    "    all_five = 4.0 * math.factorial(13) / (math.factorial(13 - 5) * math.factorial(5))\n",
    "    combination_total = math.factorial(52) / (math.factorial(52 - 5) * math.factorial(5))\n",
    "\n",
    "    return all_five / combination_total\n",
    "\n",
    "print(\"Question 8 answer:\", ques_eight())"
   ]
  },
  {
   "cell_type": "markdown",
   "metadata": {},
   "source": [
    "### Question 9"
   ]
  },
  {
   "cell_type": "markdown",
   "metadata": {},
   "source": [
    "Pascal's triangle is a triangular array of numbers in which the entry on one row of the triangle corresponds to the sum of the two entries directly above the entry. This program prints out the first few rows of Pascal's triangle.\n",
    "\n",
    "Enter a math expression in m and n using factorial (!) that represents the value of the nth entry of the mth row of Pascal's triangle. (Both the row numbers and entry numbers are indexed starting at zero.)"
   ]
  },
  {
   "cell_type": "markdown",
   "metadata": {},
   "source": [
    "- m!/(n! * (m-n)!)"
   ]
  }
 ],
 "metadata": {
  "kernelspec": {
   "display_name": "Python [default]",
   "language": "python",
   "name": "python3"
  },
  "language_info": {
   "codemirror_mode": {
    "name": "ipython",
    "version": 3
   },
   "file_extension": ".py",
   "mimetype": "text/x-python",
   "name": "python",
   "nbconvert_exporter": "python",
   "pygments_lexer": "ipython3",
   "version": "3.6.2"
  }
 },
 "nbformat": 4,
 "nbformat_minor": 2
}
