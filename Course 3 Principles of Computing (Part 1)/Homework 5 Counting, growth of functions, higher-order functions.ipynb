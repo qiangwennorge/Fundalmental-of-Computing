{
 "cells": [
  {
   "cell_type": "markdown",
   "metadata": {},
   "source": [
    "## Homework 5"
   ]
  },
  {
   "cell_type": "markdown",
   "metadata": {},
   "source": [
    "### Greedy boss"
   ]
  },
  {
   "cell_type": "code",
   "execution_count": 12,
   "metadata": {},
   "outputs": [
    {
     "name": "stdout",
     "output_type": "stream",
     "text": [
      "[0, 10, 15, 19, 21, 23, 25, 27, 28, 29, 30, 31, 32, 33, 34, 34, 35, 36, 36, 37, 37, 38, 38, 39, 39, 40, 40, 40, 41, 41, 41, 42, 42, 42, 43, 43, 43, 44, 44, 44, 44, 45, 45, 45, 45, 46, 46, 46, 46, 46, 47, 47, 47, 47, 47, 48, 48, 48, 48, 48, 49, 49, 49, 49, 49, 49, 50, 50, 50, 50, 50, 50, 50, 51, 51, 51, 51, 51, 51, 51, 52, 52, 52, 52, 52, 52, 52, 52, 53, 53, 53, 53, 53, 53, 53, 53, 53, 54, 54, 54, 54, 54, 54, 54, 54, 54, 55, 55, 55, 55, 55, 55, 55, 55, 55, 55, 55, 56, 56, 56, 56, 56, 56, 56, 56, 56, 56, 56, 56, 57, 57, 57, 57, 57, 57, 57, 57, 57, 57, 57, 57, 57, 58, 58, 58, 58, 58, 58, 58, 58, 58, 58, 58, 58, 58, 58, 59, 59, 59, 59, 59, 59, 59, 59, 59, 59, 59, 59, 59, 59, 59, 60, 60, 60, 60, 60, 60, 60, 60, 60, 60, 60, 60, 60, 60, 60, 60, 60, 60, 61, 61, 61, 61, 61, 61, 61, 61, 61, 61, 61, 61, 61, 61, 61, 61, 61, 61, 62, 62, 62, 62, 62, 62, 62, 62, 62, 62, 62, 62, 62, 62, 62, 62, 62, 62, 62, 62, 62, 63, 63, 63, 63, 63, 63, 63, 63, 63, 63, 63, 63, 63, 63, 63, 63, 63, 63, 63, 63, 63, 63, 63, 64, 64, 64, 64, 64, 64, 64, 64, 64, 64, 64, 64, 64, 64, 64, 64, 64, 64, 64, 64, 64, 64, 64, 64, 64, 65, 65, 65, 65, 65, 65, 65, 65, 65, 65, 65, 65, 65, 65, 65, 65, 65, 65, 65, 65, 65, 65, 65, 65, 65, 65, 65, 65, 66, 66, 66, 66, 66, 66, 66, 66, 66, 66, 66, 66, 66, 66, 66, 66, 66, 66, 66, 66, 66, 66, 66, 66, 66, 66, 66, 66, 66, 66, 67, 67, 67, 67, 67, 67, 67, 67, 67, 67, 67, 67, 67, 67, 67, 67, 67, 67, 67, 67, 67, 67, 67, 67, 67, 67, 67, 67, 67, 67, 67, 67, 67, 68, 68, 68, 68, 68, 68, 68, 68, 68, 68, 68, 68, 68, 68, 68, 68, 68, 68, 68, 68, 68, 68, 68, 68, 68, 68, 68, 68, 68, 68, 68, 68, 68, 68, 68, 68, 68, 69, 69, 69, 69, 69, 69, 69, 69, 69, 69, 69, 69, 69, 69, 69, 69, 69, 69, 69, 69, 69, 69, 69, 69, 69, 69, 69, 69, 69, 69, 69, 69, 69, 69, 69, 69, 69, 69, 69, 69, 69, 70, 70, 70, 70, 70, 70, 70, 70, 70, 70, 70, 70, 70, 70, 70, 70, 70, 70, 70, 70, 70, 70, 70, 70, 70, 70, 70, 70, 70, 70, 70, 70, 70, 70, 70, 70, 70, 70, 70, 70, 70, 70, 70, 70]\n",
      "[[0, 0], [10, 1000], [16, 2200], [20, 3400], [23, 4600], [26, 6100], [29, 7900], [31, 9300], [33, 10900], [35, 12700]]\n",
      "[[0, 0], [10, 1000], [15, 2000], [19, 3200], [21, 4000], [23, 5000], [25, 6200], [27, 7600], [28, 8400], [29, 9300], [30, 10300], [31, 11400], [32, 12600], [33, 13900], [34, 15300], [34, 15300], [35, 16900]]\n"
     ]
    }
   ],
   "source": [
    "import matplotlib.pyplot as plt\n",
    "import math\n",
    "#import codeskulptor\n",
    "#codeskulptor.set_timeout(20)\n",
    "\n",
    "STANDARD = True\n",
    "LOGLOG = False\n",
    "\n",
    "# constants for simulation\n",
    "INITIAL_SALARY = 100\n",
    "SALARY_INCREMENT = 100\n",
    "INITIAL_BRIBE_COST = 1000\n",
    "\n",
    "\n",
    "def greedy_boss(days_in_simulation, bribe_cost_increment, plot_type = STANDARD):\n",
    "    \"\"\"\n",
    "    Simulation of greedy boss\n",
    "    \"\"\"\n",
    "    \n",
    "    # initialize necessary local variables\n",
    "    current_day = 0\n",
    "    current_savings = 0\n",
    "    total_salary = 0\n",
    "    current_salary = INITIAL_SALARY\n",
    "    current_bribe = INITIAL_BRIBE_COST\n",
    "    \n",
    "    # define  list consisting of days vs. total salary earned for analysis\n",
    "    days_vs_earnings = []\n",
    "\n",
    "    # Each iteration of this while loop simulates one bribe\n",
    "    while current_day <= days_in_simulation:\n",
    "        \n",
    "        # update list with days vs total salary earned\n",
    "        # use plot_type to control whether regular or log/log plot\n",
    "        if plot_type == STANDARD:\n",
    "            days_vs_earnings.append([current_day, total_salary])\n",
    "        else:\n",
    "            days_vs_earnings.append([math.log(current_day), math.log(total_salary)])\n",
    "        \n",
    "        # check whether we have enough money to bribe without waiting\n",
    "        if current_savings >= current_bribe:\n",
    "            days_to_next_bribe = 0\n",
    "        else:\n",
    "            time_to_next_bribe = (current_bribe - current_savings) / float(current_salary)\n",
    "            days_to_next_bribe = math.ceil(time_to_next_bribe)\n",
    "        \n",
    "        # advance current_day to day of next bribe (DO NOT INCREMENT BY ONE DAY)\n",
    "        current_day += days_to_next_bribe\n",
    "\n",
    "        # update state of simulation to reflect bribe\n",
    "        current_savings += current_salary * days_to_next_bribe\n",
    "        current_savings -= current_bribe\n",
    "        total_salary    += current_salary * days_to_next_bribe\n",
    "        \n",
    "        current_salary += SALARY_INCREMENT\n",
    "        current_bribe  += bribe_cost_increment\n",
    "   \n",
    "    return days_vs_earnings\n",
    "\n",
    "\n",
    "def run_simulations():\n",
    "    \"\"\"\n",
    "    Run simulations for several possible bribe increments\n",
    "    \"\"\"\n",
    "    plot_type = STANDARD\n",
    "    days = 70\n",
    "    inc_0 = greedy_boss(days, 0, plot_type)\n",
    "    inc_500 = greedy_boss(days, 500, plot_type)\n",
    "    inc_1000 = greedy_boss(days, 1000, plot_type)\n",
    "    inc_2000 = greedy_boss(days, 2000, plot_type)\n",
    "    inc_0_x = [x for [x,y] in inc_0]\n",
    "    \n",
    "    #plt.figure()\n",
    "    #plt.plot(inc_0[:][0], inc_0[:][1], 'o')\n",
    "    #plt.show()\n",
    "'''\n",
    "    plt.plot(\"Greedy boss\", 600, 600, \"days\", \"total earnings\", \n",
    "                          [inc_0, inc_500, inc_1000, inc_2000], False,\n",
    "                         [\"Bribe increment = 0\", \"Bribe increment = 500\",\n",
    "                          \"Bribe increment = 1000\", \"Bribe increment = 2000\"])\n",
    "'''\n",
    "run_simulations()\n",
    "\n",
    "print(greedy_boss(35, 100))\n",
    "# should print [(0, 0), (10, 1000), (16, 2200), (20, 3400), (23, 4600), (26, 6100), (29, 7900), (31, 9300), (33, 10900), (35, 12700)]\n",
    "\n",
    "print(greedy_boss(35, 0))\n",
    "# should print [(0, 0), (10, 1000), (15, 2000), (19, 3200), (21, 4000), (23, 5000), (25, 6200), (27, 7600), (28, 8400), (29, 9300), (30, 10300), (31, 11400), (32, 12600), (33, 13900), (34, 15300), (34, 15300), (35, 16900)]"
   ]
  },
  {
   "cell_type": "markdown",
   "metadata": {},
   "source": [
    "### Question 1"
   ]
  },
  {
   "cell_type": "markdown",
   "metadata": {},
   "source": [
    "Analyzing the Greedy Boss Scenario\n",
    "\n",
    "In this week's mini-project, we will investigate various strategies for the simple (but popular) game \"Cookie Clicker\". (If you think Cookie Clicker is silly, just remember that \"Farmville\" made the founders of Zynga rich.)\n",
    "\n",
    "As a warmup, this week's Practice Activity, The Case of the Greedy Boss, considers a simple scenario that is very similar to Cookie Clicker in which you can repeatedly bribe your boss to have him increase your salary.\n",
    "\n",
    "This homework will analyze the behavior of the greedy boss simulator for several simple cases. If you have not taken a look at this practice activity, you should work through it first before attempting this homework.\n",
    "\n",
    "Use the function run_simulations in the greedy boss simulator to plot the graph of total salary earned as a function of the number of days for bribe_cost_increment = 0, 500, 1000, 2000. Which value for bribe_cost_increment generates the fastest growth in total salary earned in the simulation?\n",
    "\n",
    "Remember to compare the plots of the functions over roughly the same number of days."
   ]
  },
  {
   "cell_type": "code",
   "execution_count": null,
   "metadata": {
    "collapsed": true
   },
   "outputs": [],
   "source": []
  }
 ],
 "metadata": {
  "kernelspec": {
   "display_name": "Python [default]",
   "language": "python",
   "name": "python3"
  },
  "language_info": {
   "codemirror_mode": {
    "name": "ipython",
    "version": 3
   },
   "file_extension": ".py",
   "mimetype": "text/x-python",
   "name": "python",
   "nbconvert_exporter": "python",
   "pygments_lexer": "ipython3",
   "version": "3.6.2"
  }
 },
 "nbformat": 4,
 "nbformat_minor": 2
}
