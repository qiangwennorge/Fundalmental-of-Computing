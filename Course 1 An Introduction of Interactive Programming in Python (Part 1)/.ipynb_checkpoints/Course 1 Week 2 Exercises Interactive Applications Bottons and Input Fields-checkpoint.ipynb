{
 "cells": [
  {
   "cell_type": "markdown",
   "metadata": {},
   "source": [
    "## Practice Exercises for Interactive Applications"
   ]
  },
  {
   "cell_type": "markdown",
   "metadata": {},
   "source": [
    "#### Given the program template below, write a Python function print_goodbye() that defines a local variable message whose value is \"Goodbye\" and prints the value of this local variable to the console. Note that the existing global variable message retains its original value \"Hello\" after the call to print_goodbye() completes. "
   ]
  },
  {
   "cell_type": "code",
   "execution_count": null,
   "metadata": {
    "collapsed": true
   },
   "outputs": [],
   "source": []
  },
  {
   "cell_type": "markdown",
   "metadata": {},
   "source": [
    "#### Given the program template below, write a Python function set_goodbye() that updates a global variable message with the value \"Goodbye\" and prints the value of this global variable to the console. Note that the existing global variable message has its original value \"Hello\" modified to \"Goodbye\" during the call to set_goodbye()."
   ]
  },
  {
   "cell_type": "code",
   "execution_count": null,
   "metadata": {
    "collapsed": true
   },
   "outputs": [],
   "source": []
  },
  {
   "cell_type": "markdown",
   "metadata": {},
   "source": [
    "#### Challenge: Given the program template below, implement four functions that manipulate a global variable count as follows. The function reset() sets the value of count to be zero, the function increment() adds one to count, the function decrement() subtracts one from count, and the function print_count() that prints the value of count to the console. "
   ]
  },
  {
   "cell_type": "code",
   "execution_count": null,
   "metadata": {
    "collapsed": true
   },
   "outputs": [],
   "source": []
  },
  {
   "cell_type": "markdown",
   "metadata": {},
   "source": [
    "#### Complete the program template below so that the resulting CodeSkulptor program opens a frame of size 100×200 with the title \"My first frame\". You will need to add only two extra lines of code."
   ]
  },
  {
   "cell_type": "code",
   "execution_count": null,
   "metadata": {
    "collapsed": true
   },
   "outputs": [],
   "source": []
  },
  {
   "cell_type": "markdown",
   "metadata": {},
   "source": [
    "#### Given the program template below, modify the program to create a CodeSkulptor frame that opens a 200×100 pixel frame with the title \"My second frame\". Remember to use the Docs to determine the correct syntax for the necessary SimpleGUI calls."
   ]
  },
  {
   "cell_type": "code",
   "execution_count": null,
   "metadata": {
    "collapsed": true
   },
   "outputs": [],
   "source": []
  }
 ],
 "metadata": {
  "kernelspec": {
   "display_name": "Python [default]",
   "language": "python",
   "name": "python3"
  },
  "language_info": {
   "codemirror_mode": {
    "name": "ipython",
    "version": 3
   },
   "file_extension": ".py",
   "mimetype": "text/x-python",
   "name": "python",
   "nbconvert_exporter": "python",
   "pygments_lexer": "ipython3",
   "version": "3.6.2"
  }
 },
 "nbformat": 4,
 "nbformat_minor": 2
}
